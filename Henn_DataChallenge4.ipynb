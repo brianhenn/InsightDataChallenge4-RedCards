{
 "cells": [
  {
   "cell_type": "markdown",
   "metadata": {},
   "source": [
    "## Data Challenge 4: Redcard Prediction\n",
    "\n",
    "#### Brian Henn and Rachel Millin, Insight Data Science, July 26, 2018\n",
    "\n",
    "#####  “Are soccer referees more likely to give red cards to dark skin toned players than light skin toned players?” \n",
    "\n",
    "##### The dataset came from the players who played in the 2012–13 European football (soccer) professional leagues. Data about the players’ ages, heights, weights, position, skintone rating, and more were included. Explore the data and try to answer the posed question.\n",
    "\n",
    "Some ideas before looking at the data to explore here:\n",
    "\n",
    "-Could we build a multivariate linear model that estimates the relationship between skin tone and red cards, as well as the relationship between red cards and other factors that are not skin tone (to limit confounding variables such as the league where the player plays, the player's weight/height/position, etc.)? "
   ]
  },
  {
   "cell_type": "code",
   "execution_count": 1,
   "metadata": {},
   "outputs": [],
   "source": [
    "# import stuff\n",
    "\n",
    "import pandas as pd\n",
    "from matplotlib import pyplot as plt\n",
    "import numpy as np\n",
    "from sklearn import linear_model\n",
    "from sklearn.preprocessing import StandardScaler\n"
   ]
  },
  {
   "cell_type": "markdown",
   "metadata": {},
   "source": [
    "#### For reference, here is the dataset's column metadata:\n",
    "\n",
    "\\b playerShort \n",
    "\\b0 - short player ID\\\n",
    "\n",
    "\\b player \n",
    "\\b0 - player name\\\n",
    "\n",
    "\\b club\n",
    "\\b0  - player club\\\n",
    "\n",
    "\\b leagueCountry\n",
    "\\b0  - country of player club (England, Germany, France, and Spain)\\\n",
    "\n",
    "\\b birthday\n",
    "\\b0  - player birthday\\\n",
    "\n",
    "\\b height\n",
    "\\b0  - player height (in cm)\\\n",
    "\n",
    "\\b weight\n",
    "\\b0  - player weight (in kg)\\\n",
    "\n",
    "\\b position\n",
    "\\b0  - detailed player position \\\n",
    "\n",
    "\\b games\n",
    "\\b0  - number of games in the player-referee dyad\\\n",
    "\n",
    "\\b victories\n",
    "\\b0  - victories in the player-referee dyad\\\n",
    "\n",
    "\\b ties\n",
    "\\b0  - ties in the player-referee dyad\\\n",
    "\n",
    "\\b defeats\n",
    "\\b0  - losses in the player-referee dyad\\\n",
    "\n",
    "\\b goals\n",
    "\\b0  - goals scored by a player in the player-referee dyad\\\n",
    "\n",
    "\\b yellowCards\n",
    "\\b0  - number of yellow cards player received from referee\\\n",
    "\n",
    "\\b yellowReds\n",
    "\\b0  - number of yellow-red cards player received from referee\\\n",
    "\n",
    "\\b redCards\n",
    "\\b0  - number of red cards player received from referee\\\n",
    "\n",
    "\\b photoID\n",
    "\\b0  - ID of player photo (if available)\\\n",
    "\n",
    "\\b rater1\n",
    "\\b0  - skin rating of photo by rater 1 (5-point scale ranging from \\'93very light skin\\'94 to \\'93very dark skin\\'94)\\\n",
    "\n",
    "\\b rater2\n",
    "\\b0  - skin rating of photo by rater 2 (5-point scale ranging from \\'93very light skin\\'94 to \\'93very dark skin\\'94)\\\n",
    "\n",
    "\\b refNum\n",
    "\\b0  - unique referee ID number (referee name removed for anonymizing purposes)\\\n",
    "\n",
    "\\b refCountry\n",
    "\\b0  - unique referee country ID number (country name removed for anonymizing purposes)\\\n",
    "\n",
    "\\b meanIAT\n",
    "\\b0  - mean implicit bias score (using the race IAT) for referee country, higher values correspond to faster white | good, black | bad associations \\\n",
    "\n",
    "\\b nIAT\n",
    "\\b0  - sample size for race IAT in that particular country\\\n",
    "\n",
    "\\b seIAT\n",
    "\\b0  - standard error for mean estimate of race IAT       \\\n",
    "\n",
    "\\b meanExp\n",
    "\\b0  - mean explicit bias score (using a racial thermometer task) for referee country, higher values correspond to greater feelings of warmth toward whites versus blacks\\\n",
    "\n",
    "\\b nExp\n",
    "\\b0  - sample size for explicit bias in that particular country\\\n",
    "\n",
    "\\b seExp\n",
    "\\b0  - standard error for mean estimate of explicit bias measure\\\n"
   ]
  },
  {
   "cell_type": "code",
   "execution_count": 2,
   "metadata": {},
   "outputs": [],
   "source": [
    "# establish the filepath of the data\n",
    "\n",
    "redcards_filename = './redcard.csv'"
   ]
  },
  {
   "cell_type": "code",
   "execution_count": 3,
   "metadata": {},
   "outputs": [
    {
     "data": {
      "text/html": [
       "<div>\n",
       "<style scoped>\n",
       "    .dataframe tbody tr th:only-of-type {\n",
       "        vertical-align: middle;\n",
       "    }\n",
       "\n",
       "    .dataframe tbody tr th {\n",
       "        vertical-align: top;\n",
       "    }\n",
       "\n",
       "    .dataframe thead th {\n",
       "        text-align: right;\n",
       "    }\n",
       "</style>\n",
       "<table border=\"1\" class=\"dataframe\">\n",
       "  <thead>\n",
       "    <tr style=\"text-align: right;\">\n",
       "      <th></th>\n",
       "      <th>playerShort</th>\n",
       "      <th>player</th>\n",
       "      <th>club</th>\n",
       "      <th>leagueCountry</th>\n",
       "      <th>birthday</th>\n",
       "      <th>height</th>\n",
       "      <th>weight</th>\n",
       "      <th>position</th>\n",
       "      <th>games</th>\n",
       "      <th>victories</th>\n",
       "      <th>...</th>\n",
       "      <th>rater2</th>\n",
       "      <th>refNum</th>\n",
       "      <th>refCountry</th>\n",
       "      <th>Alpha_3</th>\n",
       "      <th>meanIAT</th>\n",
       "      <th>nIAT</th>\n",
       "      <th>seIAT</th>\n",
       "      <th>meanExp</th>\n",
       "      <th>nExp</th>\n",
       "      <th>seExp</th>\n",
       "    </tr>\n",
       "  </thead>\n",
       "  <tbody>\n",
       "    <tr>\n",
       "      <th>0</th>\n",
       "      <td>lucas-wilchez</td>\n",
       "      <td>Lucas Wilchez</td>\n",
       "      <td>Real Zaragoza</td>\n",
       "      <td>Spain</td>\n",
       "      <td>31.08.1983</td>\n",
       "      <td>177.0</td>\n",
       "      <td>72.0</td>\n",
       "      <td>Attacking Midfielder</td>\n",
       "      <td>1</td>\n",
       "      <td>0</td>\n",
       "      <td>...</td>\n",
       "      <td>0.50</td>\n",
       "      <td>1</td>\n",
       "      <td>1</td>\n",
       "      <td>GRC</td>\n",
       "      <td>0.326391</td>\n",
       "      <td>712.0</td>\n",
       "      <td>0.000564</td>\n",
       "      <td>0.396000</td>\n",
       "      <td>750.0</td>\n",
       "      <td>0.002696</td>\n",
       "    </tr>\n",
       "    <tr>\n",
       "      <th>1</th>\n",
       "      <td>john-utaka</td>\n",
       "      <td>John Utaka</td>\n",
       "      <td>Montpellier HSC</td>\n",
       "      <td>France</td>\n",
       "      <td>08.01.1982</td>\n",
       "      <td>179.0</td>\n",
       "      <td>82.0</td>\n",
       "      <td>Right Winger</td>\n",
       "      <td>1</td>\n",
       "      <td>0</td>\n",
       "      <td>...</td>\n",
       "      <td>0.75</td>\n",
       "      <td>2</td>\n",
       "      <td>2</td>\n",
       "      <td>ZMB</td>\n",
       "      <td>0.203375</td>\n",
       "      <td>40.0</td>\n",
       "      <td>0.010875</td>\n",
       "      <td>-0.204082</td>\n",
       "      <td>49.0</td>\n",
       "      <td>0.061504</td>\n",
       "    </tr>\n",
       "    <tr>\n",
       "      <th>2</th>\n",
       "      <td>abdon-prats</td>\n",
       "      <td>Abdón Prats</td>\n",
       "      <td>RCD Mallorca</td>\n",
       "      <td>Spain</td>\n",
       "      <td>17.12.1992</td>\n",
       "      <td>181.0</td>\n",
       "      <td>79.0</td>\n",
       "      <td>NaN</td>\n",
       "      <td>1</td>\n",
       "      <td>0</td>\n",
       "      <td>...</td>\n",
       "      <td>NaN</td>\n",
       "      <td>3</td>\n",
       "      <td>3</td>\n",
       "      <td>ESP</td>\n",
       "      <td>0.369894</td>\n",
       "      <td>1785.0</td>\n",
       "      <td>0.000229</td>\n",
       "      <td>0.588297</td>\n",
       "      <td>1897.0</td>\n",
       "      <td>0.001002</td>\n",
       "    </tr>\n",
       "    <tr>\n",
       "      <th>3</th>\n",
       "      <td>pablo-mari</td>\n",
       "      <td>Pablo Marí</td>\n",
       "      <td>RCD Mallorca</td>\n",
       "      <td>Spain</td>\n",
       "      <td>31.08.1993</td>\n",
       "      <td>191.0</td>\n",
       "      <td>87.0</td>\n",
       "      <td>Center Back</td>\n",
       "      <td>1</td>\n",
       "      <td>1</td>\n",
       "      <td>...</td>\n",
       "      <td>NaN</td>\n",
       "      <td>3</td>\n",
       "      <td>3</td>\n",
       "      <td>ESP</td>\n",
       "      <td>0.369894</td>\n",
       "      <td>1785.0</td>\n",
       "      <td>0.000229</td>\n",
       "      <td>0.588297</td>\n",
       "      <td>1897.0</td>\n",
       "      <td>0.001002</td>\n",
       "    </tr>\n",
       "    <tr>\n",
       "      <th>4</th>\n",
       "      <td>ruben-pena</td>\n",
       "      <td>Rubén Peña</td>\n",
       "      <td>Real Valladolid</td>\n",
       "      <td>Spain</td>\n",
       "      <td>18.07.1991</td>\n",
       "      <td>172.0</td>\n",
       "      <td>70.0</td>\n",
       "      <td>Right Midfielder</td>\n",
       "      <td>1</td>\n",
       "      <td>1</td>\n",
       "      <td>...</td>\n",
       "      <td>NaN</td>\n",
       "      <td>3</td>\n",
       "      <td>3</td>\n",
       "      <td>ESP</td>\n",
       "      <td>0.369894</td>\n",
       "      <td>1785.0</td>\n",
       "      <td>0.000229</td>\n",
       "      <td>0.588297</td>\n",
       "      <td>1897.0</td>\n",
       "      <td>0.001002</td>\n",
       "    </tr>\n",
       "  </tbody>\n",
       "</table>\n",
       "<p>5 rows × 28 columns</p>\n",
       "</div>"
      ],
      "text/plain": [
       "     playerShort         player             club leagueCountry    birthday  \\\n",
       "0  lucas-wilchez  Lucas Wilchez    Real Zaragoza         Spain  31.08.1983   \n",
       "1     john-utaka     John Utaka  Montpellier HSC        France  08.01.1982   \n",
       "2    abdon-prats    Abdón Prats     RCD Mallorca         Spain  17.12.1992   \n",
       "3     pablo-mari     Pablo Marí     RCD Mallorca         Spain  31.08.1993   \n",
       "4     ruben-pena     Rubén Peña  Real Valladolid         Spain  18.07.1991   \n",
       "\n",
       "   height  weight              position  games  victories    ...     rater2  \\\n",
       "0   177.0    72.0  Attacking Midfielder      1          0    ...       0.50   \n",
       "1   179.0    82.0          Right Winger      1          0    ...       0.75   \n",
       "2   181.0    79.0                   NaN      1          0    ...        NaN   \n",
       "3   191.0    87.0           Center Back      1          1    ...        NaN   \n",
       "4   172.0    70.0      Right Midfielder      1          1    ...        NaN   \n",
       "\n",
       "   refNum  refCountry  Alpha_3   meanIAT    nIAT     seIAT   meanExp    nExp  \\\n",
       "0       1           1      GRC  0.326391   712.0  0.000564  0.396000   750.0   \n",
       "1       2           2      ZMB  0.203375    40.0  0.010875 -0.204082    49.0   \n",
       "2       3           3      ESP  0.369894  1785.0  0.000229  0.588297  1897.0   \n",
       "3       3           3      ESP  0.369894  1785.0  0.000229  0.588297  1897.0   \n",
       "4       3           3      ESP  0.369894  1785.0  0.000229  0.588297  1897.0   \n",
       "\n",
       "      seExp  \n",
       "0  0.002696  \n",
       "1  0.061504  \n",
       "2  0.001002  \n",
       "3  0.001002  \n",
       "4  0.001002  \n",
       "\n",
       "[5 rows x 28 columns]"
      ]
     },
     "execution_count": 3,
     "metadata": {},
     "output_type": "execute_result"
    }
   ],
   "source": [
    "# load into a pandas dataframe and have a look\n",
    "\n",
    "redcards_df = pd.read_csv(redcards_filename)\n",
    "redcards_df.head()\n",
    "#print(redcards_df.head())"
   ]
  },
  {
   "cell_type": "code",
   "execution_count": 4,
   "metadata": {},
   "outputs": [
    {
     "name": "stdout",
     "output_type": "stream",
     "text": [
      "115457 146028\n"
     ]
    }
   ],
   "source": [
    "# it seems like there may be many missing values in this dataset - let's check\n",
    "\n",
    "len_total = len(redcards_df)\n",
    "\n",
    "# try including only totally clean rows\n",
    "\n",
    "nans = pd.isnull(redcards_df)\n",
    "clean_rows = nans.sum(1) == 0\n",
    "print(sum(clean_rows),len_total)"
   ]
  },
  {
   "cell_type": "code",
   "execution_count": 5,
   "metadata": {},
   "outputs": [
    {
     "data": {
      "text/plain": [
       "(118,)"
      ]
     },
     "execution_count": 5,
     "metadata": {},
     "output_type": "execute_result"
    }
   ],
   "source": [
    "redcards_df['club'].unique().shape"
   ]
  },
  {
   "cell_type": "markdown",
   "metadata": {},
   "source": [
    "#### Looks like we lose about 20% of the data this way -- maybe that's OK? Would be easier to proceed with a nan-free dataset, so let's try this approach. Proceeding to exploratory data analysis...\n",
    "\n",
    "#### First treat each player-ref pairing separately"
   ]
  },
  {
   "cell_type": "code",
   "execution_count": 6,
   "metadata": {},
   "outputs": [
    {
     "name": "stdout",
     "output_type": "stream",
     "text": [
      "(115457, 28)\n"
     ]
    },
    {
     "data": {
      "text/html": [
       "<div>\n",
       "<style scoped>\n",
       "    .dataframe tbody tr th:only-of-type {\n",
       "        vertical-align: middle;\n",
       "    }\n",
       "\n",
       "    .dataframe tbody tr th {\n",
       "        vertical-align: top;\n",
       "    }\n",
       "\n",
       "    .dataframe thead th {\n",
       "        text-align: right;\n",
       "    }\n",
       "</style>\n",
       "<table border=\"1\" class=\"dataframe\">\n",
       "  <thead>\n",
       "    <tr style=\"text-align: right;\">\n",
       "      <th></th>\n",
       "      <th>playerShort</th>\n",
       "      <th>player</th>\n",
       "      <th>club</th>\n",
       "      <th>leagueCountry</th>\n",
       "      <th>birthday</th>\n",
       "      <th>height</th>\n",
       "      <th>weight</th>\n",
       "      <th>position</th>\n",
       "      <th>games</th>\n",
       "      <th>victories</th>\n",
       "      <th>...</th>\n",
       "      <th>rater2</th>\n",
       "      <th>refNum</th>\n",
       "      <th>refCountry</th>\n",
       "      <th>Alpha_3</th>\n",
       "      <th>meanIAT</th>\n",
       "      <th>nIAT</th>\n",
       "      <th>seIAT</th>\n",
       "      <th>meanExp</th>\n",
       "      <th>nExp</th>\n",
       "      <th>seExp</th>\n",
       "    </tr>\n",
       "  </thead>\n",
       "  <tbody>\n",
       "    <tr>\n",
       "      <th>0</th>\n",
       "      <td>lucas-wilchez</td>\n",
       "      <td>Lucas Wilchez</td>\n",
       "      <td>Real Zaragoza</td>\n",
       "      <td>Spain</td>\n",
       "      <td>31.08.1983</td>\n",
       "      <td>177.0</td>\n",
       "      <td>72.0</td>\n",
       "      <td>Attacking Midfielder</td>\n",
       "      <td>1</td>\n",
       "      <td>0</td>\n",
       "      <td>...</td>\n",
       "      <td>0.50</td>\n",
       "      <td>1</td>\n",
       "      <td>1</td>\n",
       "      <td>GRC</td>\n",
       "      <td>0.326391</td>\n",
       "      <td>712.0</td>\n",
       "      <td>0.000564</td>\n",
       "      <td>0.396000</td>\n",
       "      <td>750.0</td>\n",
       "      <td>0.002696</td>\n",
       "    </tr>\n",
       "    <tr>\n",
       "      <th>1</th>\n",
       "      <td>john-utaka</td>\n",
       "      <td>John Utaka</td>\n",
       "      <td>Montpellier HSC</td>\n",
       "      <td>France</td>\n",
       "      <td>08.01.1982</td>\n",
       "      <td>179.0</td>\n",
       "      <td>82.0</td>\n",
       "      <td>Right Winger</td>\n",
       "      <td>1</td>\n",
       "      <td>0</td>\n",
       "      <td>...</td>\n",
       "      <td>0.75</td>\n",
       "      <td>2</td>\n",
       "      <td>2</td>\n",
       "      <td>ZMB</td>\n",
       "      <td>0.203375</td>\n",
       "      <td>40.0</td>\n",
       "      <td>0.010875</td>\n",
       "      <td>-0.204082</td>\n",
       "      <td>49.0</td>\n",
       "      <td>0.061504</td>\n",
       "    </tr>\n",
       "    <tr>\n",
       "      <th>5</th>\n",
       "      <td>aaron-hughes</td>\n",
       "      <td>Aaron Hughes</td>\n",
       "      <td>Fulham FC</td>\n",
       "      <td>England</td>\n",
       "      <td>08.11.1979</td>\n",
       "      <td>182.0</td>\n",
       "      <td>71.0</td>\n",
       "      <td>Center Back</td>\n",
       "      <td>1</td>\n",
       "      <td>0</td>\n",
       "      <td>...</td>\n",
       "      <td>0.00</td>\n",
       "      <td>4</td>\n",
       "      <td>4</td>\n",
       "      <td>LUX</td>\n",
       "      <td>0.325185</td>\n",
       "      <td>127.0</td>\n",
       "      <td>0.003297</td>\n",
       "      <td>0.538462</td>\n",
       "      <td>130.0</td>\n",
       "      <td>0.013752</td>\n",
       "    </tr>\n",
       "    <tr>\n",
       "      <th>6</th>\n",
       "      <td>aleksandar-kolarov</td>\n",
       "      <td>Aleksandar Kolarov</td>\n",
       "      <td>Manchester City</td>\n",
       "      <td>England</td>\n",
       "      <td>10.11.1985</td>\n",
       "      <td>187.0</td>\n",
       "      <td>80.0</td>\n",
       "      <td>Left Fullback</td>\n",
       "      <td>1</td>\n",
       "      <td>1</td>\n",
       "      <td>...</td>\n",
       "      <td>0.25</td>\n",
       "      <td>4</td>\n",
       "      <td>4</td>\n",
       "      <td>LUX</td>\n",
       "      <td>0.325185</td>\n",
       "      <td>127.0</td>\n",
       "      <td>0.003297</td>\n",
       "      <td>0.538462</td>\n",
       "      <td>130.0</td>\n",
       "      <td>0.013752</td>\n",
       "    </tr>\n",
       "    <tr>\n",
       "      <th>7</th>\n",
       "      <td>alexander-tettey</td>\n",
       "      <td>Alexander Tettey</td>\n",
       "      <td>Norwich City</td>\n",
       "      <td>England</td>\n",
       "      <td>04.04.1986</td>\n",
       "      <td>180.0</td>\n",
       "      <td>68.0</td>\n",
       "      <td>Defensive Midfielder</td>\n",
       "      <td>1</td>\n",
       "      <td>0</td>\n",
       "      <td>...</td>\n",
       "      <td>1.00</td>\n",
       "      <td>4</td>\n",
       "      <td>4</td>\n",
       "      <td>LUX</td>\n",
       "      <td>0.325185</td>\n",
       "      <td>127.0</td>\n",
       "      <td>0.003297</td>\n",
       "      <td>0.538462</td>\n",
       "      <td>130.0</td>\n",
       "      <td>0.013752</td>\n",
       "    </tr>\n",
       "  </tbody>\n",
       "</table>\n",
       "<p>5 rows × 28 columns</p>\n",
       "</div>"
      ],
      "text/plain": [
       "          playerShort              player             club leagueCountry  \\\n",
       "0       lucas-wilchez       Lucas Wilchez    Real Zaragoza         Spain   \n",
       "1          john-utaka          John Utaka  Montpellier HSC        France   \n",
       "5        aaron-hughes        Aaron Hughes        Fulham FC       England   \n",
       "6  aleksandar-kolarov  Aleksandar Kolarov  Manchester City       England   \n",
       "7    alexander-tettey    Alexander Tettey     Norwich City       England   \n",
       "\n",
       "     birthday  height  weight              position  games  victories  \\\n",
       "0  31.08.1983   177.0    72.0  Attacking Midfielder      1          0   \n",
       "1  08.01.1982   179.0    82.0          Right Winger      1          0   \n",
       "5  08.11.1979   182.0    71.0           Center Back      1          0   \n",
       "6  10.11.1985   187.0    80.0         Left Fullback      1          1   \n",
       "7  04.04.1986   180.0    68.0  Defensive Midfielder      1          0   \n",
       "\n",
       "     ...     rater2  refNum  refCountry  Alpha_3   meanIAT   nIAT     seIAT  \\\n",
       "0    ...       0.50       1           1      GRC  0.326391  712.0  0.000564   \n",
       "1    ...       0.75       2           2      ZMB  0.203375   40.0  0.010875   \n",
       "5    ...       0.00       4           4      LUX  0.325185  127.0  0.003297   \n",
       "6    ...       0.25       4           4      LUX  0.325185  127.0  0.003297   \n",
       "7    ...       1.00       4           4      LUX  0.325185  127.0  0.003297   \n",
       "\n",
       "    meanExp   nExp     seExp  \n",
       "0  0.396000  750.0  0.002696  \n",
       "1 -0.204082   49.0  0.061504  \n",
       "5  0.538462  130.0  0.013752  \n",
       "6  0.538462  130.0  0.013752  \n",
       "7  0.538462  130.0  0.013752  \n",
       "\n",
       "[5 rows x 28 columns]"
      ]
     },
     "execution_count": 6,
     "metadata": {},
     "output_type": "execute_result"
    },
    {
     "data": {
      "image/png": "[encoded data removed]",
      "text/plain": [
       "<Figure size 432x288 with 1 Axes>"
      ]
     },
     "metadata": {},
     "output_type": "display_data"
    }
   ],
   "source": [
    "redcards_df = redcards_df.loc[clean_rows,:]\n",
    "print(redcards_df.shape)\n",
    "\n",
    "# let's look at the distribution of red card counts\n",
    "ax = redcards_df['redCards'].plot.hist(bins=[-0.5, 0.5, 1.5, 2.5])\n",
    "ax.set_xlabel('Number of Red Cards')\n",
    "ax.set_ylabel('Number of Players')\n",
    "ax.set_xticks([0,1,2])\n",
    "redcards_df.groupby(['redCards'])['redCards'].count()\n",
    "\n",
    "redcards_df.head()\n"
   ]
  },
  {
   "cell_type": "code",
   "execution_count": 7,
   "metadata": {},
   "outputs": [
    {
     "data": {
      "text/plain": [
       "[<matplotlib.axis.XTick at 0x1071482b0>,\n",
       " <matplotlib.axis.XTick at 0x107143ba8>,\n",
       " <matplotlib.axis.XTick at 0x107167198>,\n",
       " <matplotlib.axis.XTick at 0x108e325c0>,\n",
       " <matplotlib.axis.XTick at 0x108e32a90>,\n",
       " <matplotlib.axis.XTick at 0x108e32f60>,\n",
       " <matplotlib.axis.XTick at 0x108e394a8>,\n",
       " <matplotlib.axis.XTick at 0x108e399b0>,\n",
       " <matplotlib.axis.XTick at 0x108e39eb8>,\n",
       " <matplotlib.axis.XTick at 0x108e42400>]"
      ]
     },
     "execution_count": 7,
     "metadata": {},
     "output_type": "execute_result"
    },
    {
     "data": {
      "image/png": "[encoded data removed]",
      "text/plain": [
       "<Figure size 432x288 with 1 Axes>"
      ]
     },
     "metadata": {},
     "output_type": "display_data"
    }
   ],
   "source": [
    "# normalize the number of red cards per game played\n",
    "\n",
    "redcards_df['redCardsPerGame'] = redcards_df['redCards']/redcards_df['games']\n",
    "\n",
    "bins = np.arange(0,0.2,0.02)\n",
    "ax = redcards_df['redCardsPerGame'].plot.hist(bins)\n",
    "ax.set_xlabel('Number of Red Cards per Game')\n",
    "ax.set_ylabel('Number of Players')\n",
    "ax.set_xticks([0,1,2])\n",
    "ax.set_xlim([0,0.2])\n",
    "ax.set_ylim([0,500])\n",
    "ax.set_xticks(bins)\n",
    "#redcards_df.groupby(['redCards'])['redCards'].count()"
   ]
  },
  {
   "cell_type": "code",
   "execution_count": 8,
   "metadata": {},
   "outputs": [
    {
     "data": {
      "text/plain": [
       "<matplotlib.axes._subplots.AxesSubplot at 0x10adf1e10>"
      ]
     },
     "execution_count": 8,
     "metadata": {},
     "output_type": "execute_result"
    },
    {
     "data": {
      "image/png": "[encoded data removed]",
      "text/plain": [
       "<Figure size 864x288 with 2 Axes>"
      ]
     },
     "metadata": {},
     "output_type": "display_data"
    }
   ],
   "source": [
    "# let's look at the distribution of players in leagues and by position\n",
    "\n",
    "fig, axs = plt.subplots(1,2)\n",
    "fig.set_size_inches([12,4])\n",
    "\n",
    "num_countries = redcards_df.groupby(['leagueCountry'])['leagueCountry'].count()\n",
    "ax = num_countries.plot.bar(ax = axs[0])\n",
    "\n",
    "num_positions = redcards_df.groupby(['position'])['position'].count()\n",
    "num_positions.plot.bar()\n"
   ]
  },
  {
   "cell_type": "markdown",
   "metadata": {},
   "source": [
    "OK, so we can see that there are a diversity of leagues and positions, and that these are not evenly distributed. Something to keep in mind.\n",
    "\n",
    "Let's look at the distribution of skin tone ratings in the dataset."
   ]
  },
  {
   "cell_type": "code",
   "execution_count": 9,
   "metadata": {},
   "outputs": [
    {
     "data": {
      "text/plain": [
       "Text(0,0.5,'Number of Players')"
      ]
     },
     "execution_count": 9,
     "metadata": {},
     "output_type": "execute_result"
    },
    {
     "data": {
      "image/png": "[encoded data removed]",
      "text/plain": [
       "<Figure size 432x288 with 1 Axes>"
      ]
     },
     "metadata": {},
     "output_type": "display_data"
    }
   ],
   "source": [
    "# Start by averaging the two skin tone ratings into one value for simplicity, and plotting distribution\n",
    "\n",
    "ax = redcards_df['rater_ave'] = redcards_df[['rater1','rater2']].mean(1).plot.hist(bins=10)\n",
    "ax.set_xlabel('Skin Tone Rating Average')\n",
    "ax.set_ylabel('Number of Players')"
   ]
  },
  {
   "cell_type": "markdown",
   "metadata": {},
   "source": [
    "### Let's try fitting the multivariate linear model to a set of potential predictors\n",
    "\n",
    "This includes player age, position, weight, league, number of games"
   ]
  },
  {
   "cell_type": "code",
   "execution_count": 10,
   "metadata": {},
   "outputs": [
    {
     "name": "stdout",
     "output_type": "stream",
     "text": [
      "(1406,)\n",
      "(115457, 32)\n"
     ]
    }
   ],
   "source": [
    "# Look at distribution of red cards per game within \"light\" and \"dark\" skin tone groups\n",
    "\n",
    "redcards_df['skin-tone average'] = redcards_df[['rater1','rater2']].mean(1)\n",
    "redcards_df['skin-tone category'] = redcards_df['skin-tone average']>0.5\n",
    "\n",
    "print(redcards_df['player'].unique().shape)\n",
    "print(redcards_df.shape)\n",
    "\n",
    "# start with Mann-Whitney U test to compare average # red cards per game between groups? "
   ]
  },
  {
   "cell_type": "code",
   "execution_count": 16,
   "metadata": {},
   "outputs": [
    {
     "name": "stdout",
     "output_type": "stream",
     "text": [
      "(115457, 4)\n",
      "(115457, 152)\n",
      "(115457, 12)\n",
      "(115457, 1)\n",
      "(115457, 1)\n",
      "(115457, 1)\n",
      "(115457, 1)\n",
      "(115457, 20)\n",
      "0.012602094286184466\n",
      "(115457,)\n"
     ]
    },
    {
     "name": "stderr",
     "output_type": "stream",
     "text": [
      "/Applications/anaconda/envs/insight/lib/python3.6/site-packages/sklearn/utils/validation.py:475: DataConversionWarning: Data with input dtype int64 was converted to float64 by StandardScaler.\n",
      "  warnings.warn(msg, DataConversionWarning)\n"
     ]
    }
   ],
   "source": [
    "# Since there are very few occurrences of more than 1 red card per game, change this to a\n",
    "# binary prediction - what factors are predictive of getting a red card?\n",
    "\n",
    "# binarize league, position, ref country, red card given\n",
    "league_country = np.array(pd.get_dummies(redcards_df.loc[:,'leagueCountry']))\n",
    "ref_country = np.array(pd.get_dummies(redcards_df.loc[:,'refCountry']))\n",
    "position = np.array(pd.get_dummies(redcards_df.loc[:,'position']))\n",
    "\n",
    "redcard = np.array(redcards_df['redCards']>0)\n",
    "\n",
    "# normalize other features\n",
    "skin_tone = StandardScaler().fit_transform(np.array(redcards_df['skin-tone average']).reshape(-1, 1)) # leave as is since already goes from 0 to 1\n",
    "weight = StandardScaler().fit_transform(np.array(redcards_df.loc[:,'weight']).reshape(-1, 1))\n",
    "height = StandardScaler().fit_transform(np.array(redcards_df.loc[:,'height']).reshape(-1, 1))\n",
    "n_games = StandardScaler().fit_transform(np.array(redcards_df.loc[:,'games']).reshape(-1, 1))\n",
    "\n",
    "print(league_country.shape)\n",
    "print(ref_country.shape)\n",
    "print(position.shape)\n",
    "print(skin_tone.shape)\n",
    "print(weight.shape)\n",
    "print(height.shape)\n",
    "print(n_games.shape)\n",
    "\n",
    "#redcard_features = pd.concat([pd.DataFrame(skin_tone), pd.DataFrame(position), pd.DataFrame(league_country), pd.DataFrame(ref_country), pd.DataFrame(weight), pd.DataFrame(height), pd.DataFrame(n_games)], axis=1)\n",
    "redcard_features = pd.concat([pd.DataFrame(skin_tone), pd.DataFrame(position), pd.DataFrame(league_country), pd.DataFrame(weight), pd.DataFrame(height), pd.DataFrame(n_games)], axis=1)\n",
    "print(redcard_features.shape)\n",
    "\n",
    "redcard_features.head()\n",
    "print(np.mean(redcard))\n",
    "print(redcard.shape)\n"
   ]
  },
  {
   "cell_type": "code",
   "execution_count": 17,
   "metadata": {},
   "outputs": [
    {
     "name": "stdout",
     "output_type": "stream",
     "text": [
      "0.7855478663052046\n",
      "[[ 0.09173464 -0.44312108  0.52635103 -0.08873089  0.01165047  0.09362759\n",
      "   0.16064142  0.17302243 -0.05644432 -0.37764116  0.00083926 -0.38175225\n",
      "   0.09181618 -0.24142535  0.13980908 -0.30168681  0.11356175  0.10154314\n",
      "  -0.08961327  0.71779682]]\n"
     ]
    }
   ],
   "source": [
    "\n",
    "# do we want to cross-validate the model?\n",
    "mdl = linear_model.LogisticRegression(class_weight='balanced').fit(redcard_features, redcard)\n",
    "print(mdl.score(redcard_features, redcard))\n",
    "print(mdl.coef_)\n",
    "\n"
   ]
  },
  {
   "cell_type": "code",
   "execution_count": 18,
   "metadata": {},
   "outputs": [
    {
     "name": "stdout",
     "output_type": "stream",
     "text": [
      "0.7876438847363088\n",
      "[[-0.46548022  0.5179696  -0.06312536 -0.0158187   0.10733297  0.11704066\n",
      "   0.1797562  -0.04645076 -0.3584603   0.0046354  -0.38693315  0.12732912\n",
      "  -0.22780459  0.17127258 -0.32520957  0.09953705  0.11268442 -0.09609977\n",
      "   0.71443389]]\n"
     ]
    }
   ],
   "source": [
    "# run the same model without skin tone to see how it compares\n",
    "\n",
    "redcard_features = pd.concat([pd.DataFrame(position), pd.DataFrame(league_country), pd.DataFrame(weight), pd.DataFrame(height), pd.DataFrame(n_games)], axis=1)\n",
    "mdl2 = linear_model.LogisticRegression(class_weight='balanced').fit(redcard_features, redcard)\n",
    "print(mdl2.score(redcard_features, redcard))\n",
    "print(mdl2.coef_)\n"
   ]
  },
  {
   "cell_type": "code",
   "execution_count": 19,
   "metadata": {},
   "outputs": [
    {
     "name": "stdout",
     "output_type": "stream",
     "text": [
      "0.7984184588201668\n",
      "[[ 0.08905198 -0.22223935  0.18574033 -0.33474167  0.15474806  0.1295363\n",
      "   0.01782133  0.71882217]]\n"
     ]
    }
   ],
   "source": [
    "# run the same model but keep skin type and remove position\n",
    "\n",
    "redcard_features = pd.concat([pd.DataFrame(skin_tone), pd.DataFrame(league_country), pd.DataFrame(weight), pd.DataFrame(height), pd.DataFrame(n_games)], axis=1)\n",
    "mdl3 = linear_model.LogisticRegression(class_weight='balanced').fit(redcard_features, redcard)\n",
    "print(mdl3.score(redcard_features, redcard))\n",
    "print(mdl3.coef_)\n"
   ]
  },
  {
   "cell_type": "code",
   "execution_count": 20,
   "metadata": {},
   "outputs": [
    {
     "name": "stdout",
     "output_type": "stream",
     "text": [
      "0.5471647453164381\n",
      "[[-0.45231353  0.57058449 -0.07102035  0.09972878  0.11565838  0.10984274\n",
      "   0.12311635  0.00578064 -0.30834565  0.02860531 -0.30233735  0.01484835\n",
      "  -0.08253093  0.24649425 -0.42321015  0.19339498  0.11481842 -0.08869883]]\n"
     ]
    }
   ],
   "source": [
    "# remove number of games\n",
    "\n",
    "redcard_features = pd.concat([pd.DataFrame(position), pd.DataFrame(league_country), pd.DataFrame(weight), pd.DataFrame(height)], axis=1)\n",
    "mdl2 = linear_model.LogisticRegression(class_weight='balanced').fit(redcard_features, redcard)\n",
    "print(mdl2.score(redcard_features, redcard))\n",
    "print(mdl2.coef_)\n"
   ]
  },
  {
   "cell_type": "markdown",
   "metadata": {},
   "source": [
    "Removing skin tone from the model doesn't affect the fit."
   ]
  },
  {
   "cell_type": "markdown",
   "metadata": {},
   "source": [
    "Combine stats for each player across all occurrences (ignoring who the ref is, since for\n",
    "now we are only checking whether a bias exists (not who is responsible for it)"
   ]
  },
  {
   "cell_type": "code",
   "execution_count": 51,
   "metadata": {},
   "outputs": [
    {
     "data": {
      "text/plain": [
       "Text(0,0.5,'Number of Players')"
      ]
     },
     "execution_count": 51,
     "metadata": {},
     "output_type": "execute_result"
    },
    {
     "data": {
      "image/png": "[encoded data removed]",
      "text/plain": [
       "<Figure size 432x288 with 1 Axes>"
      ]
     },
     "metadata": {},
     "output_type": "display_data"
    },
    {
     "data": {
      "image/png": "[encoded data removed]",
      "text/plain": [
       "<Figure size 432x288 with 1 Axes>"
      ]
     },
     "metadata": {},
     "output_type": "display_data"
    }
   ],
   "source": [
    "# for each column, group by player\n",
    "league_country = redcards_df.loc[:,['player', 'leagueCountry']].groupby('player').agg(lambda x:x.value_counts().index[0])\n",
    "position = redcards_df.loc[:,['player', 'position']].groupby('player').agg(lambda x:x.value_counts().index[0])\n",
    "\n",
    "redcard = redcards_df.loc[:,['player', 'redCards']].groupby('player').sum().loc[:,'redCards'].astype(float)/ \\\n",
    "    redcards_df.loc[:,['player', 'games']].groupby('player').sum().loc[:,'games'].astype(float) # mean for that player across all matches\n",
    "\n",
    "skin_tone = redcards_df.loc[:,['player', 'skin-tone average']].groupby('player').mean()\n",
    "weight = redcards_df.loc[:,['player', 'weight']].groupby('player').mean()\n",
    "height = redcards_df.loc[:,['player', 'height']].groupby('player').mean()\n",
    "\n",
    "\n",
    "# binarize features\n",
    "\n",
    "league_country = np.array(pd.get_dummies(league_country))\n",
    "position = np.array(pd.get_dummies(position))\n",
    "\n",
    "# normalize other features\n",
    "skin_tone = StandardScaler().fit_transform(np.array(skin_tone).reshape(-1, 1)) # leave as is since already goes from 0 to 1\n",
    "weight = StandardScaler().fit_transform(np.array(weight).reshape(-1, 1))\n",
    "height = StandardScaler().fit_transform(np.array(height).reshape(-1, 1))\n",
    "\n",
    "redcard = StandardScaler().fit_transform(np.array(redcard).reshape(-1, 1))\n",
    "\n",
    "plt.figure()\n",
    "plt.hist(skin_tone, bins=10)\n",
    "plt.xlabel('Skin Tone Rating Average')\n",
    "plt.ylabel('Number of Players')\n",
    "\n",
    "plt.figure()\n",
    "plt.hist(redcard, bins=10)\n",
    "plt.xlabel('Avg. red cards per game')\n",
    "plt.ylabel('Number of Players')\n"
   ]
  },
  {
   "cell_type": "code",
   "execution_count": 52,
   "metadata": {},
   "outputs": [
    {
     "name": "stdout",
     "output_type": "stream",
     "text": [
      "0.07875809164367276\n",
      "[[ 0.05871301 -0.23326441  0.5350876  -0.08723534 -0.02270799  0.04091947\n",
      "   0.25804715  0.17046286  0.01536097 -0.32626579 -0.03085068 -0.26553604\n",
      "  -0.0540178  -0.1260264   0.09483921 -0.1174515   0.14863868  0.02729822\n",
      "  -0.06100716]]\n"
     ]
    }
   ],
   "source": [
    "redcard_features = pd.concat([pd.DataFrame(skin_tone), pd.DataFrame(position), pd.DataFrame(league_country), pd.DataFrame(weight), pd.DataFrame(height)], axis=1)\n",
    "mdl4 = linear_model.LinearRegression().fit(redcard_features, redcard)\n",
    "print(mdl4.score(redcard_features, redcard))\n",
    "print(mdl4.coef_)\n",
    "\n",
    "# redcard_features.head()\n"
   ]
  },
  {
   "cell_type": "code",
   "execution_count": 54,
   "metadata": {},
   "outputs": [
    {
     "data": {
      "text/plain": [
       "Text(0,0.5,'Red Cards Per Game')"
      ]
     },
     "execution_count": 54,
     "metadata": {},
     "output_type": "execute_result"
    },
    {
     "data": {
      "image/png": "[encoded data removed]",
      "text/plain": [
       "<Figure size 432x288 with 1 Axes>"
      ]
     },
     "metadata": {},
     "output_type": "display_data"
    }
   ],
   "source": [
    "# correlation between skin tone and red cards per game\n",
    "skin_tone = redcards_df.loc[:,['player', 'skin-tone average']].groupby('player').mean()\n",
    "redcard = redcards_df.loc[:,['player', 'redCards']].groupby('player').sum().loc[:,'redCards'].astype(float)/ \\\n",
    "    redcards_df.loc[:,['player', 'games']].groupby('player').sum().loc[:,'games'].astype(float) # mean for that player across all matches\n",
    "\n",
    "plt.figure()\n",
    "plt.plot(skin_tone, redcard,'o')\n",
    "plt.xlabel('Skin Tone Rating Average')\n",
    "plt.ylabel('Red Cards Per Game')\n"
   ]
  },
  {
   "cell_type": "code",
   "execution_count": 60,
   "metadata": {},
   "outputs": [
    {
     "name": "stderr",
     "output_type": "stream",
     "text": [
      "/Applications/anaconda/envs/insight/lib/python3.6/site-packages/numpy/core/fromnumeric.py:52: FutureWarning: reshape is deprecated and will raise in a subsequent release. Please use .values.reshape(...) instead\n",
      "  return getattr(obj, method)(*args, **kwds)\n"
     ]
    },
    {
     "data": {
      "text/plain": [
       "{'whiskers': [<matplotlib.lines.Line2D at 0x1a0fb182e8>,\n",
       "  <matplotlib.lines.Line2D at 0x1a0fb18828>,\n",
       "  <matplotlib.lines.Line2D at 0x1a0fedfba8>,\n",
       "  <matplotlib.lines.Line2D at 0x1a0fedfb38>],\n",
       " 'caps': [<matplotlib.lines.Line2D at 0x1a0fb18be0>,\n",
       "  <matplotlib.lines.Line2D at 0x1a0fb18048>,\n",
       "  <matplotlib.lines.Line2D at 0x1a0fedf320>,\n",
       "  <matplotlib.lines.Line2D at 0x1a0fedf6d8>],\n",
       " 'boxes': [<matplotlib.lines.Line2D at 0x1a0fb487b8>,\n",
       "  <matplotlib.lines.Line2D at 0x1a0fb30780>],\n",
       " 'medians': [<matplotlib.lines.Line2D at 0x1a0fb309e8>,\n",
       "  <matplotlib.lines.Line2D at 0x1070a55c0>],\n",
       " 'fliers': [<matplotlib.lines.Line2D at 0x1a0fb30b00>,\n",
       "  <matplotlib.lines.Line2D at 0x1070a5048>],\n",
       " 'means': []}"
      ]
     },
     "execution_count": 60,
     "metadata": {},
     "output_type": "execute_result"
    },
    {
     "data": {
      "image/png": "[encoded data removed]",
      "text/plain": [
       "<Figure size 432x288 with 1 Axes>"
      ]
     },
     "metadata": {},
     "output_type": "display_data"
    }
   ],
   "source": [
    "# Look at distribution of other variables (country, weight, height, position) \n",
    "# within \"light\" and \"dark\" skin tone groups\n",
    "\n",
    "tone1 = skin_tone<=0.4\n",
    "tone2 = skin_tone>0.4\n",
    "\n",
    "plt.figure\n",
    "plt.boxplot([redcard[tone1['skin-tone average']], redcard[tone2['skin-tone average']]])\n",
    "\n"
   ]
  },
  {
   "cell_type": "code",
   "execution_count": null,
   "metadata": {},
   "outputs": [],
   "source": [
    "# reduce to just the stats we care about\n",
    "\n",
    "red_cards_unique_players = redcards_df['player','club','leagueCountry','height','weight','position']\n",
    "# when collapsing across players, take the average for numeric values and the most frequent for other values\n"
   ]
  },
  {
   "cell_type": "code",
   "execution_count": 23,
   "metadata": {},
   "outputs": [
    {
     "data": {
      "text/plain": [
       "array([ 1,  2,  5,  4,  3,  6,  8,  9, 10,  7, 11, 12, 26, 14, 16, 35, 19,\n",
       "       17, 15, 33, 38, 24, 28, 23, 13, 25, 30, 18, 21, 20, 29, 22, 34, 37,\n",
       "       39, 27, 32, 31, 46, 47, 44, 42, 36, 41, 40])"
      ]
     },
     "execution_count": 23,
     "metadata": {},
     "output_type": "execute_result"
    }
   ],
   "source": [
    "redcards_df['games'].unique()"
   ]
  },
  {
   "cell_type": "code",
   "execution_count": null,
   "metadata": {},
   "outputs": [],
   "source": [
    "# or look at it by ref?\n",
    "# For each ref, # of redcards to players "
   ]
  }
 ],
 "metadata": {
  "kernelspec": {
   "display_name": "Python 3",
   "language": "python",
   "name": "python3"
  },
  "language_info": {
   "codemirror_mode": {
    "name": "ipython",
    "version": 3
   },
   "file_extension": ".py",
   "mimetype": "text/x-python",
   "name": "python",
   "nbconvert_exporter": "python",
   "pygments_lexer": "ipython3",
   "version": "3.6.5"
  }
 },
 "nbformat": 4,
 "nbformat_minor": 2
}
