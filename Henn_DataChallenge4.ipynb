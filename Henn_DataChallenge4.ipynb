{
 "cells": [
  {
   "cell_type": "markdown",
   "metadata": {},
   "source": [
    "## Data Challenge 4: Redcard Prediction\n",
    "\n",
    "#### Brian Henn and Rachel Millin, Insight Data Science, July 26, 2018\n",
    "\n",
    "#####  “Are soccer referees more likely to give red cards to dark skin toned players than light skin toned players?” \n",
    "\n",
    "##### The dataset came from the players who played in the 2012–13 European football (soccer) professional leagues. Data about the players’ ages, heights, weights, position, skintone rating, and more were included. Explore the data and try to answer the posed question.\n",
    "\n",
    "Some ideas before looking at the data to explore here:\n",
    "\n",
    "-Could we build a multivariate linear model that estimates the relationship between skin tone and red cards, as well as the relationship between red cards and other factors that are not skin tone (to limit confounding variables such as the league where the player plays, the player's weight/height/position, etc.)? "
   ]
  },
  {
   "cell_type": "code",
   "execution_count": 78,
   "metadata": {},
   "outputs": [],
   "source": [
    "# import stuff\n",
    "\n",
    "import pandas as pd\n",
    "from matplotlib import pyplot as plt\n",
    "import numpy as np\n",
    "from sklearn import linear_model\n"
   ]
  },
  {
   "cell_type": "markdown",
   "metadata": {},
   "source": [
    "#### For reference, here is the dataset's column metadata:\n",
    "\n",
    "\\b playerShort \n",
    "\\b0 - short player ID\\\n",
    "\n",
    "\\b player \n",
    "\\b0 - player name\\\n",
    "\n",
    "\\b club\n",
    "\\b0  - player club\\\n",
    "\n",
    "\\b leagueCountry\n",
    "\\b0  - country of player club (England, Germany, France, and Spain)\\\n",
    "\n",
    "\\b birthday\n",
    "\\b0  - player birthday\\\n",
    "\n",
    "\\b height\n",
    "\\b0  - player height (in cm)\\\n",
    "\n",
    "\\b weight\n",
    "\\b0  - player weight (in kg)\\\n",
    "\n",
    "\\b position\n",
    "\\b0  - detailed player position \\\n",
    "\n",
    "\\b games\n",
    "\\b0  - number of games in the player-referee dyad\\\n",
    "\n",
    "\\b victories\n",
    "\\b0  - victories in the player-referee dyad\\\n",
    "\n",
    "\\b ties\n",
    "\\b0  - ties in the player-referee dyad\\\n",
    "\n",
    "\\b defeats\n",
    "\\b0  - losses in the player-referee dyad\\\n",
    "\n",
    "\\b goals\n",
    "\\b0  - goals scored by a player in the player-referee dyad\\\n",
    "\n",
    "\\b yellowCards\n",
    "\\b0  - number of yellow cards player received from referee\\\n",
    "\n",
    "\\b yellowReds\n",
    "\\b0  - number of yellow-red cards player received from referee\\\n",
    "\n",
    "\\b redCards\n",
    "\\b0  - number of red cards player received from referee\\\n",
    "\n",
    "\\b photoID\n",
    "\\b0  - ID of player photo (if available)\\\n",
    "\n",
    "\\b rater1\n",
    "\\b0  - skin rating of photo by rater 1 (5-point scale ranging from \\'93very light skin\\'94 to \\'93very dark skin\\'94)\\\n",
    "\n",
    "\\b rater2\n",
    "\\b0  - skin rating of photo by rater 2 (5-point scale ranging from \\'93very light skin\\'94 to \\'93very dark skin\\'94)\\\n",
    "\n",
    "\\b refNum\n",
    "\\b0  - unique referee ID number (referee name removed for anonymizing purposes)\\\n",
    "\n",
    "\\b refCountry\n",
    "\\b0  - unique referee country ID number (country name removed for anonymizing purposes)\\\n",
    "\n",
    "\\b meanIAT\n",
    "\\b0  - mean implicit bias score (using the race IAT) for referee country, higher values correspond to faster white | good, black | bad associations \\\n",
    "\n",
    "\\b nIAT\n",
    "\\b0  - sample size for race IAT in that particular country\\\n",
    "\n",
    "\\b seIAT\n",
    "\\b0  - standard error for mean estimate of race IAT       \\\n",
    "\n",
    "\\b meanExp\n",
    "\\b0  - mean explicit bias score (using a racial thermometer task) for referee country, higher values correspond to greater feelings of warmth toward whites versus blacks\\\n",
    "\n",
    "\\b nExp\n",
    "\\b0  - sample size for explicit bias in that particular country\\\n",
    "\n",
    "\\b seExp\n",
    "\\b0  - standard error for mean estimate of explicit bias measure\\\n"
   ]
  },
  {
   "cell_type": "code",
   "execution_count": 7,
   "metadata": {},
   "outputs": [],
   "source": [
    "# establish the filepath of the data\n",
    "\n",
    "redcards_filename = './redcard.csv'"
   ]
  },
  {
   "cell_type": "code",
   "execution_count": 55,
   "metadata": {},
   "outputs": [
    {
     "data": {
      "text/html": [
       "<div>\n",
       "<style scoped>\n",
       "    .dataframe tbody tr th:only-of-type {\n",
       "        vertical-align: middle;\n",
       "    }\n",
       "\n",
       "    .dataframe tbody tr th {\n",
       "        vertical-align: top;\n",
       "    }\n",
       "\n",
       "    .dataframe thead th {\n",
       "        text-align: right;\n",
       "    }\n",
       "</style>\n",
       "<table border=\"1\" class=\"dataframe\">\n",
       "  <thead>\n",
       "    <tr style=\"text-align: right;\">\n",
       "      <th></th>\n",
       "      <th>playerShort</th>\n",
       "      <th>player</th>\n",
       "      <th>club</th>\n",
       "      <th>leagueCountry</th>\n",
       "      <th>birthday</th>\n",
       "      <th>height</th>\n",
       "      <th>weight</th>\n",
       "      <th>position</th>\n",
       "      <th>games</th>\n",
       "      <th>victories</th>\n",
       "      <th>...</th>\n",
       "      <th>rater2</th>\n",
       "      <th>refNum</th>\n",
       "      <th>refCountry</th>\n",
       "      <th>Alpha_3</th>\n",
       "      <th>meanIAT</th>\n",
       "      <th>nIAT</th>\n",
       "      <th>seIAT</th>\n",
       "      <th>meanExp</th>\n",
       "      <th>nExp</th>\n",
       "      <th>seExp</th>\n",
       "    </tr>\n",
       "  </thead>\n",
       "  <tbody>\n",
       "    <tr>\n",
       "      <th>0</th>\n",
       "      <td>lucas-wilchez</td>\n",
       "      <td>Lucas Wilchez</td>\n",
       "      <td>Real Zaragoza</td>\n",
       "      <td>Spain</td>\n",
       "      <td>31.08.1983</td>\n",
       "      <td>177.0</td>\n",
       "      <td>72.0</td>\n",
       "      <td>Attacking Midfielder</td>\n",
       "      <td>1</td>\n",
       "      <td>0</td>\n",
       "      <td>...</td>\n",
       "      <td>0.50</td>\n",
       "      <td>1</td>\n",
       "      <td>1</td>\n",
       "      <td>GRC</td>\n",
       "      <td>0.326391</td>\n",
       "      <td>712.0</td>\n",
       "      <td>0.000564</td>\n",
       "      <td>0.396000</td>\n",
       "      <td>750.0</td>\n",
       "      <td>0.002696</td>\n",
       "    </tr>\n",
       "    <tr>\n",
       "      <th>1</th>\n",
       "      <td>john-utaka</td>\n",
       "      <td>John Utaka</td>\n",
       "      <td>Montpellier HSC</td>\n",
       "      <td>France</td>\n",
       "      <td>08.01.1982</td>\n",
       "      <td>179.0</td>\n",
       "      <td>82.0</td>\n",
       "      <td>Right Winger</td>\n",
       "      <td>1</td>\n",
       "      <td>0</td>\n",
       "      <td>...</td>\n",
       "      <td>0.75</td>\n",
       "      <td>2</td>\n",
       "      <td>2</td>\n",
       "      <td>ZMB</td>\n",
       "      <td>0.203375</td>\n",
       "      <td>40.0</td>\n",
       "      <td>0.010875</td>\n",
       "      <td>-0.204082</td>\n",
       "      <td>49.0</td>\n",
       "      <td>0.061504</td>\n",
       "    </tr>\n",
       "    <tr>\n",
       "      <th>2</th>\n",
       "      <td>abdon-prats</td>\n",
       "      <td>Abdón Prats</td>\n",
       "      <td>RCD Mallorca</td>\n",
       "      <td>Spain</td>\n",
       "      <td>17.12.1992</td>\n",
       "      <td>181.0</td>\n",
       "      <td>79.0</td>\n",
       "      <td>NaN</td>\n",
       "      <td>1</td>\n",
       "      <td>0</td>\n",
       "      <td>...</td>\n",
       "      <td>NaN</td>\n",
       "      <td>3</td>\n",
       "      <td>3</td>\n",
       "      <td>ESP</td>\n",
       "      <td>0.369894</td>\n",
       "      <td>1785.0</td>\n",
       "      <td>0.000229</td>\n",
       "      <td>0.588297</td>\n",
       "      <td>1897.0</td>\n",
       "      <td>0.001002</td>\n",
       "    </tr>\n",
       "    <tr>\n",
       "      <th>3</th>\n",
       "      <td>pablo-mari</td>\n",
       "      <td>Pablo Marí</td>\n",
       "      <td>RCD Mallorca</td>\n",
       "      <td>Spain</td>\n",
       "      <td>31.08.1993</td>\n",
       "      <td>191.0</td>\n",
       "      <td>87.0</td>\n",
       "      <td>Center Back</td>\n",
       "      <td>1</td>\n",
       "      <td>1</td>\n",
       "      <td>...</td>\n",
       "      <td>NaN</td>\n",
       "      <td>3</td>\n",
       "      <td>3</td>\n",
       "      <td>ESP</td>\n",
       "      <td>0.369894</td>\n",
       "      <td>1785.0</td>\n",
       "      <td>0.000229</td>\n",
       "      <td>0.588297</td>\n",
       "      <td>1897.0</td>\n",
       "      <td>0.001002</td>\n",
       "    </tr>\n",
       "    <tr>\n",
       "      <th>4</th>\n",
       "      <td>ruben-pena</td>\n",
       "      <td>Rubén Peña</td>\n",
       "      <td>Real Valladolid</td>\n",
       "      <td>Spain</td>\n",
       "      <td>18.07.1991</td>\n",
       "      <td>172.0</td>\n",
       "      <td>70.0</td>\n",
       "      <td>Right Midfielder</td>\n",
       "      <td>1</td>\n",
       "      <td>1</td>\n",
       "      <td>...</td>\n",
       "      <td>NaN</td>\n",
       "      <td>3</td>\n",
       "      <td>3</td>\n",
       "      <td>ESP</td>\n",
       "      <td>0.369894</td>\n",
       "      <td>1785.0</td>\n",
       "      <td>0.000229</td>\n",
       "      <td>0.588297</td>\n",
       "      <td>1897.0</td>\n",
       "      <td>0.001002</td>\n",
       "    </tr>\n",
       "  </tbody>\n",
       "</table>\n",
       "<p>5 rows × 28 columns</p>\n",
       "</div>"
      ],
      "text/plain": [
       "     playerShort         player             club leagueCountry    birthday  \\\n",
       "0  lucas-wilchez  Lucas Wilchez    Real Zaragoza         Spain  31.08.1983   \n",
       "1     john-utaka     John Utaka  Montpellier HSC        France  08.01.1982   \n",
       "2    abdon-prats    Abdón Prats     RCD Mallorca         Spain  17.12.1992   \n",
       "3     pablo-mari     Pablo Marí     RCD Mallorca         Spain  31.08.1993   \n",
       "4     ruben-pena     Rubén Peña  Real Valladolid         Spain  18.07.1991   \n",
       "\n",
       "   height  weight              position  games  victories    ...     rater2  \\\n",
       "0   177.0    72.0  Attacking Midfielder      1          0    ...       0.50   \n",
       "1   179.0    82.0          Right Winger      1          0    ...       0.75   \n",
       "2   181.0    79.0                   NaN      1          0    ...        NaN   \n",
       "3   191.0    87.0           Center Back      1          1    ...        NaN   \n",
       "4   172.0    70.0      Right Midfielder      1          1    ...        NaN   \n",
       "\n",
       "   refNum  refCountry  Alpha_3   meanIAT    nIAT     seIAT   meanExp    nExp  \\\n",
       "0       1           1      GRC  0.326391   712.0  0.000564  0.396000   750.0   \n",
       "1       2           2      ZMB  0.203375    40.0  0.010875 -0.204082    49.0   \n",
       "2       3           3      ESP  0.369894  1785.0  0.000229  0.588297  1897.0   \n",
       "3       3           3      ESP  0.369894  1785.0  0.000229  0.588297  1897.0   \n",
       "4       3           3      ESP  0.369894  1785.0  0.000229  0.588297  1897.0   \n",
       "\n",
       "      seExp  \n",
       "0  0.002696  \n",
       "1  0.061504  \n",
       "2  0.001002  \n",
       "3  0.001002  \n",
       "4  0.001002  \n",
       "\n",
       "[5 rows x 28 columns]"
      ]
     },
     "execution_count": 55,
     "metadata": {},
     "output_type": "execute_result"
    }
   ],
   "source": [
    "# load into a pandas dataframe and have a look\n",
    "\n",
    "redcards_df = pd.read_csv(redcards_filename)\n",
    "redcards_df.head()\n",
    "#print(redcards_df.head())"
   ]
  },
  {
   "cell_type": "code",
   "execution_count": 20,
   "metadata": {},
   "outputs": [
    {
     "name": "stdout",
     "output_type": "stream",
     "text": [
      "115457 146028\n"
     ]
    }
   ],
   "source": [
    "# it seems like there may be many missing values in this dataset - let's check\n",
    "\n",
    "len_total = len(redcards_df)\n",
    "\n",
    "# try including only totally clean rows\n",
    "\n",
    "nans = pd.isnull(redcards_df)\n",
    "clean_rows = nans.sum(1) == 0\n",
    "print(sum(clean_rows),len_total)"
   ]
  },
  {
   "cell_type": "markdown",
   "metadata": {},
   "source": [
    "#### Looks like we lose about 20% of the data this way -- maybe that's OK? Would be easier to proceed with a nan-free dataset, so let's try this approach. Proceeding to exploratory data analysis..."
   ]
  },
  {
   "cell_type": "code",
   "execution_count": 79,
   "metadata": {},
   "outputs": [
    {
     "data": {
      "text/plain": [
       "redCards\n",
       "0    114002\n",
       "1      1432\n",
       "2        23\n",
       "Name: redCards, dtype: int64"
      ]
     },
     "execution_count": 79,
     "metadata": {},
     "output_type": "execute_result"
    },
    {
     "data": {
      "image/png": "[encoded data removed]",
      "text/plain": [
       "<Figure size 432x288 with 1 Axes>"
      ]
     },
     "metadata": {},
     "output_type": "display_data"
    }
   ],
   "source": [
    "redcards_df = redcards_df.loc[clean_rows]\n",
    "#print(redcards_df.shape)\n",
    "\n",
    "# let's look at the distribution of red card counts\n",
    "ax = redcards_df['redCards'].plot.hist(bins=[-0.5, 0.5, 1.5, 2.5])\n",
    "ax.set_xlabel('Number of Red Cards')\n",
    "ax.set_ylabel('Number of Players')\n",
    "ax.set_xticks([0,1,2])\n",
    "redcards_df.groupby(['redCards'])['redCards'].count()\n"
   ]
  },
  {
   "cell_type": "code",
   "execution_count": 113,
   "metadata": {},
   "outputs": [
    {
     "data": {
      "text/plain": [
       "[<matplotlib.axis.XTick at 0x7f9d6c677c18>,\n",
       " <matplotlib.axis.XTick at 0x7f9d6c677550>,\n",
       " <matplotlib.axis.XTick at 0x7f9d6c622fd0>,\n",
       " <matplotlib.axis.XTick at 0x7f9d6c68fac8>,\n",
       " <matplotlib.axis.XTick at 0x7f9d6c62b320>,\n",
       " <matplotlib.axis.XTick at 0x7f9d6c62b7f0>,\n",
       " <matplotlib.axis.XTick at 0x7f9d6c62bcf8>,\n",
       " <matplotlib.axis.XTick at 0x7f9d6c632240>,\n",
       " <matplotlib.axis.XTick at 0x7f9d6c632748>,\n",
       " <matplotlib.axis.XTick at 0x7f9d6c632c50>]"
      ]
     },
     "execution_count": 113,
     "metadata": {},
     "output_type": "execute_result"
    },
    {
     "data": {
      "image/png": "[encoded data removed]",
      "text/plain": [
       "<Figure size 432x288 with 1 Axes>"
      ]
     },
     "metadata": {},
     "output_type": "display_data"
    }
   ],
   "source": [
    "# normalize the number of red cards per game played\n",
    "\n",
    "redcards_df['redCardsPerGame'] = redcards_df['redCards']/redcards_df['games']\n",
    "\n",
    "bins = np.arange(0,0.2,0.02)\n",
    "ax = redcards_df['redCardsPerGame'].plot.hist(bins)\n",
    "ax.set_xlabel('Number of Red Cards per Game')\n",
    "ax.set_ylabel('Number of Players')\n",
    "ax.set_xticks([0,1,2])\n",
    "ax.set_xlim([0,0.2])\n",
    "ax.set_ylim([0,500])\n",
    "ax.set_xticks(bins)\n",
    "#redcards_df.groupby(['redCards'])['redCards'].count()"
   ]
  },
  {
   "cell_type": "code",
   "execution_count": 83,
   "metadata": {},
   "outputs": [
    {
     "data": {
      "text/plain": [
       "<matplotlib.axes._subplots.AxesSubplot at 0x7f9d6e4f3390>"
      ]
     },
     "execution_count": 83,
     "metadata": {},
     "output_type": "execute_result"
    },
    {
     "data": {
      "image/png": "[encoded data removed]",
      "text/plain": [
       "<Figure size 864x288 with 2 Axes>"
      ]
     },
     "metadata": {},
     "output_type": "display_data"
    }
   ],
   "source": [
    "# let's look at the distribution of players in leagues and by position\n",
    "\n",
    "fig, axs = plt.subplots(1,2)\n",
    "fig.set_size_inches([12,4])\n",
    "\n",
    "num_countries = redcards_df.groupby(['leagueCountry'])['leagueCountry'].count()\n",
    "ax = num_countries.plot.bar(ax = axs[0])\n",
    "\n",
    "num_positions = redcards_df.groupby(['position'])['position'].count()\n",
    "num_positions.plot.bar()\n"
   ]
  },
  {
   "cell_type": "markdown",
   "metadata": {},
   "source": [
    "OK, so we can see that there are a diversity of leagues and positions, and that these are not evenly distributed. Something to keep in mind.\n",
    "\n",
    "Let's look at the distribution of skin tone ratings in the dataset."
   ]
  },
  {
   "cell_type": "code",
   "execution_count": 99,
   "metadata": {},
   "outputs": [
    {
     "data": {
      "text/plain": [
       "Text(0,0.5,'Number of Players')"
      ]
     },
     "execution_count": 99,
     "metadata": {},
     "output_type": "execute_result"
    },
    {
     "data": {
      "image/png": "[encoded data removed]",
      "text/plain": [
       "<Figure size 432x288 with 1 Axes>"
      ]
     },
     "metadata": {},
     "output_type": "display_data"
    }
   ],
   "source": [
    "# Start by averaging the two skin tone ratings into one value for simplicity, and plotting distribution\n",
    "\n",
    "ax = redcards_df['rater_ave'] = redcards_df[['rater1','rater2']].mean(1).plot.hist(bins=10)\n",
    "ax.set_xlabel('Skin Tone Rating Average')\n",
    "ax.set_ylabel('Number of Players')"
   ]
  },
  {
   "cell_type": "markdown",
   "metadata": {},
   "source": [
    "### Let's try fitting the multivariate linear model to a set of potential predictors\n",
    "\n",
    "This includes player age, position, weight, league, number of games"
   ]
  },
  {
   "cell_type": "code",
   "execution_count": null,
   "metadata": {},
   "outputs": [],
   "source": []
  }
 ],
 "metadata": {
  "kernelspec": {
   "display_name": "Python [conda env:insight]",
   "language": "python",
   "name": "conda-env-insight-py"
  },
  "language_info": {
   "codemirror_mode": {
    "name": "ipython",
    "version": 3
   },
   "file_extension": ".py",
   "mimetype": "text/x-python",
   "name": "python",
   "nbconvert_exporter": "python",
   "pygments_lexer": "ipython3",
   "version": "3.6.5"
  }
 },
 "nbformat": 4,
 "nbformat_minor": 2
}
